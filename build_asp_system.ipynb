{
  "nbformat": 4,
  "nbformat_minor": 0,
  "metadata": {
    "colab": {
      "provenance": [],
      "authorship_tag": "ABX9TyMi3sVZAAFZROgz3/USeMda",
      "include_colab_link": true
    },
    "kernelspec": {
      "name": "python3",
      "display_name": "Python 3"
    },
    "language_info": {
      "name": "python"
    }
  },
  "cells": [
    {
      "cell_type": "markdown",
      "metadata": {
        "id": "view-in-github",
        "colab_type": "text"
      },
      "source": [
        "<a href=\"https://colab.research.google.com/github/adrienpayong/build_asp_system/blob/main/build_asp_system.ipynb\" target=\"_parent\"><img src=\"https://colab.research.google.com/assets/colab-badge.svg\" alt=\"Open In Colab\"/></a>"
      ]
    },
    {
      "cell_type": "markdown",
      "source": [
        "\n",
        "\n",
        "Answer Set Programming (ASP) is a declarative programming paradigm that allows for solving complex combinatorial problems. It is particularly useful for knowledge representation and reasoning tasks. ASP focuses on finding a set of logical propositions, called answer sets, that satisfy a set of rules and constraints.\n",
        "\n",
        "In the context of question answering systems, ASP is relevant because it provides a powerful framework for representing and reasoning over knowledge bases. By encoding the rules and constraints of a question answering system in ASP, it becomes possible to leverage the declarative nature of ASP to infer and generate answers to questions.\n",
        "\n",
        "ASP enables the system to handle complex reasoning tasks, such as handling uncertainty, handling incomplete or inconsistent information, and resolving conflicts. It allows for efficient search and inference over large knowledge bases by exploiting the inherent parallelism and optimization techniques of ASP solvers.\n",
        "\n",
        "The concept of ASP in question answering systems allows for a flexible and scalable approach. It enables the system to integrate multiple sources of knowledge, such as textual corpora and ontologies, and reason over them to generate accurate and relevant answers. ASP can handle both factual and inferential questions, making it suitable for a wide range of question answering tasks.\n",
        "\n",
        "By using ASP, question answering systems can benefit from the ability to handle complex reasoning in natural language understanding, efficient answer set generation, and the flexibility to incorporate domain-specific knowledge.\n",
        "\n",
        "Define the problem of question answering using ASP.\n",
        "8 words\n",
        "\n",
        "The problem of question answering using Answer Set Programming (ASP) revolves around designing a system that can take natural language questions as input and provide accurate and relevant answers based on a given knowledge base. The goal is to leverage ASP's knowledge representation and reasoning capabilities to formulate and solve the question answering task.\n",
        "\n",
        "To define the problem more precisely, we can break it down into the following key components:\n",
        "\n",
        "    Knowledge Base: The system needs to have access to a structured knowledge base that contains relevant information for answering questions. This knowledge base can consist of facts, rules, ontologies, databases, or any other source of information.\n",
        "\n",
        "    Question Understanding: The system should be able to parse and understand natural language questions. This involves techniques such as syntactic and semantic analysis, entity recognition, and question classification.\n",
        "\n",
        "    Answer Set Generation: The knowledge base and the parsed question are used to generate ASP rules and constraints that capture the logic of the question answering task. These rules specify how the information in the knowledge base can be used to derive relevant answers.\n",
        "\n",
        "    Reasoning and Inference: The ASP solver performs reasoning and inference over the knowledge base and the generated rules to compute possible answer sets. The solver applies deductive and logical reasoning to determine which propositions are consistent with the given question and knowledge.\n",
        "\n",
        "    Answer Extraction: Once the answer sets are generated, the system needs to extract the relevant answers from them. This can involve ranking and selection mechanisms to determine the most appropriate answers based on relevance or confidence scores.\n",
        "\n",
        "    Evaluation and Validation: The system's performance and accuracy are evaluated using appropriate metrics, such as precision, recall, or F1 score. Validation techniques, such as comparing the generated answers with a gold standard, can be employed to assess the correctness and quality of the system's responses.\n",
        "\n",
        "By addressing these components using ASP, the question answering system aims to provide accurate, relevant, and understandable answers to natural language questions based on the available knowledge base. ASP provides a declarative and logical approach to represent, reason, and generate answers, making it a suitable framework for this problem.\n",
        "\n",
        "\n",
        "\n",
        "To build a comprehensive question answering system, it can utilize various knowledge sources, including:\n",
        "\n",
        "    Text Corpus: A vast collection of text documents, such as books, articles, websites, or scientific papers, can serve as a valuable knowledge source. These texts can be preprocessed, indexed, and searched to provide relevant answers.\n",
        "\n",
        "    Ontologies: Ontologies provide a structured representation of knowledge within a specific domain. They define the concepts, relationships, and properties relevant to the domain. Utilizing ontologies can enhance the system's understanding and retrieval of information.\n",
        "\n",
        "    Databases: Structured databases store organized data that can be queried to retrieve specific information. They can include factual data, historical records, or domain-specific knowledge. Integration with databases allows the system to access and retrieve accurate answers.\n",
        "\n",
        "    Knowledge Graphs: Knowledge graphs represent knowledge as interconnected nodes and edges, capturing relationships between entities. Examples include DBpedia, Freebase, or Wikidata. Knowledge graphs enable the system to navigate and retrieve information based on related entities.\n",
        "\n",
        "    APIs and Web Services: Integration with external APIs or web services can provide real-time access to data sources such as weather information, financial data, or geographical data. Accessing relevant APIs enhances the system's ability to provide up-to-date and dynamic answers.\n",
        "\n",
        "    Domain-Specific Knowledge: In certain domains, specialized knowledge sources may be required. These can include industry-specific databases, domain expert input, or proprietary knowledge repositories. Incorporating domain-specific knowledge enhances the system's accuracy and relevance within a specific field.\n",
        "\n",
        "    User Feedback and Interaction: User feedback, interactions, and previous question-answer pairs can be valuable knowledge sources. By learning from user interactions, the system can improve its responses and adapt to user preferences over time.\n",
        "\n",
        "    Pretrained Language Models: Leveraging pretrained language models, such as GPT-3.5-turbo, provides a broad understanding of language and context. These models are trained on diverse datasets and can assist in generating accurate and relevant answers.\n",
        "\n",
        "The selection of knowledge sources depends on the specific requirements and domain of the question answering system. Integrating multiple knowledge sources enables the system to provide comprehensive and reliable answers to user queries.\n",
        "\n",
        "In Answer Set Programming (ASP), knowledge is represented using predicates, rules, and constraints. Here is a brief description of each:\n",
        "\n",
        "    Predicates: Predicates are used to define the entities and properties in the knowledge representation. They represent the basic building blocks of knowledge. Predicates can have arguments that represent different elements or attributes. For example, a predicate \"father(X, Y)\" represents the relationship between a person X and their father Y.\n",
        "\n",
        "    Rules: Rules in ASP are used to define logical relationships and infer new information based on existing knowledge. A rule consists of a head and a body. The head specifies the consequence or conclusion, while the body contains the conditions or premises. Rules are typically written in the form of \"head :- body\", where \":-\" denotes implication. For example, the rule \"grandfather(X, Y) :- father(X, Z), father(Z, Y)\" states that if X is the father of Z and Z is the father of Y, then X is the grandfather of Y.\n",
        "\n",
        "    Constraints: Constraints are used to impose restrictions or conditions on the possible answer sets. They specify what is allowed or not allowed in the solution space. Constraints can be expressed using logical operators like negation, conjunction, and disjunction. For example, a constraint \":- not father(X, X)\" states that no individual can be their own father.\n",
        "\n",
        "\n",
        "\n",
        "Parsing and transforming question text into a logical form typically involves syntactic and semantic analysis techniques. Here's an overview of these processes:\n",
        "\n",
        "    Syntactic Analysis:\n",
        "    Syntactic analysis, also known as parsing, focuses on the grammatical structure of the question. It involves breaking down the text into a structured representation, such as a parse tree or a syntactic dependency graph. Techniques like part-of-speech tagging, syntactic parsing, and constituency parsing are used to identify the grammatical components, such as nouns, verbs, phrases, and clauses.\n",
        "\n",
        "    For example, consider the question \"What is the capital of France?\" Syntactic analysis would identify \"capital\" as a noun and \"France\" as a proper noun.\n",
        "\n",
        "    Semantic Analysis:\n",
        "    Semantic analysis aims to derive the meaning of the question and represent it in a formal logical form. It involves understanding the relationships between words, phrases, and entities in the question. Semantic analysis techniques include semantic role labeling, named entity recognition, and word sense disambiguation.\n",
        "\n",
        "    In our example question, semantic analysis would recognize \"capital\" as the main topic, \"France\" as a specific entity, and establish the relationship between them.\n",
        "\n",
        "    Knowledge Base Integration:\n",
        "    Once the question text has been parsed and transformed into a logical form, it needs to be linked with relevant knowledge sources. This involves mapping the question elements to entities, properties, or concepts in the knowledge base. This step ensures that the logical form can be used to retrieve or reason over the available information.\n",
        "\n",
        "    Continuing with the example, the logical form might involve mapping the question to a knowledge base entry about countries and their capitals, linking \"capital\" to the property \"capitalOf\" and \"France\" to the entity representing France.\n",
        "\n",
        "    Query Generation:\n",
        "    After the logical form has been derived and linked to the knowledge base, a query is generated to retrieve the relevant information. The query is formulated based on the structure and content of the logical form. It may involve database queries, semantic searches, or graph-based traversals, depending on the underlying knowledge sources.\n",
        "\n",
        "    In our example, the query could be something like \"Retrieve the capitalOf France from the knowledge base.\"\n",
        "\n",
        "By employing syntactic and semantic analysis techniques, the question text can be transformed into a structured and meaningful representation that can be further processed to retrieve accurate answers or perform reasoning based on the available knowledge.\n",
        "\n"
      ],
      "metadata": {
        "id": "2xIAkWWXU5YN"
      }
    },
    {
      "cell_type": "code",
      "source": [
        "!pip install clingo\n"
      ],
      "metadata": {
        "colab": {
          "base_uri": "https://localhost:8080/"
        },
        "id": "vXLzL5HwXWZt",
        "outputId": "63f150da-d8d4-49fa-e8ed-940e51e3d9ec"
      },
      "execution_count": 1,
      "outputs": [
        {
          "output_type": "stream",
          "name": "stdout",
          "text": [
            "Collecting clingo\n",
            "  Downloading clingo-5.6.2-cp310-cp310-manylinux_2_17_x86_64.manylinux2014_x86_64.whl (2.2 MB)\n",
            "\u001b[2K     \u001b[90m━━━━━━━━━━━━━━━━━━━━━━━━━━━━━━━━━━━━━━━━\u001b[0m \u001b[32m2.2/2.2 MB\u001b[0m \u001b[31m26.8 MB/s\u001b[0m eta \u001b[36m0:00:00\u001b[0m\n",
            "\u001b[?25hRequirement already satisfied: cffi in /usr/local/lib/python3.10/dist-packages (from clingo) (1.15.1)\n",
            "Requirement already satisfied: pycparser in /usr/local/lib/python3.10/dist-packages (from cffi->clingo) (2.21)\n",
            "Installing collected packages: clingo\n",
            "Successfully installed clingo-5.6.2\n"
          ]
        }
      ]
    },
    {
      "cell_type": "code",
      "source": [
        "from clingo import Control, Function\n",
        "\n",
        "# Define the knowledge base rules\n",
        "knowledge_base = \"\"\"\n",
        "% Facts\n",
        "symptom(fever).\n",
        "symptom(cough).\n",
        "symptom(headache).\n",
        "disease(covid).\n",
        "disease(flu).\n",
        "disease(migraine).\n",
        "\n",
        "% Rules\n",
        "has_symptom(X, Y) :- symptom(Y), patient_has_symptom(X, Y).\n",
        "has_disease(X, Y) :- disease(Y), patient_has_disease(X, Y).\n",
        "\"\"\"\n",
        "\n",
        "# Define the natural language query\n",
        "query = \"What are the symptoms of COVID-19?\"\n",
        "\n",
        "# Create a Control object and load the knowledge base\n",
        "control = Control()\n",
        "control.add(\"base\", [], knowledge_base)\n",
        "\n",
        "# Define a Python function to handle the query result\n",
        "def on_model(model):\n",
        "    symptoms = [sym for sym in model.symbols(atoms=True) if sym.name == \"has_symptom\"]\n",
        "    response = [sym.arguments[1].name for sym in symptoms]\n",
        "    print(\"Symptoms of COVID-19:\", response)\n",
        "\n",
        "# Register the Python function as the callback for query results\n",
        "control.ground([(\"base\", [])])\n",
        "control.solve(on_model=on_model)\n",
        "\n",
        "\n"
      ],
      "metadata": {
        "colab": {
          "base_uri": "https://localhost:8080/"
        },
        "id": "KfQcsK-EXXFD",
        "outputId": "ba1fab8f-442e-4586-fcb2-27c5ab4c82e8"
      },
      "execution_count": null,
      "outputs": [
        {
          "output_type": "stream",
          "name": "stdout",
          "text": [
            "Symptoms of COVID-19: []\n"
          ]
        },
        {
          "output_type": "execute_result",
          "data": {
            "text/plain": [
              "SolveResult(1)"
            ]
          },
          "metadata": {},
          "execution_count": 3
        }
      ]
    },
    {
      "cell_type": "code",
      "source": [
        "import nltk\n",
        "nltk.download('punkt')"
      ],
      "metadata": {
        "colab": {
          "base_uri": "https://localhost:8080/"
        },
        "id": "1BDmzU6RaF_L",
        "outputId": "ece239c2-db97-46c9-b32a-a9f4d9832e90"
      },
      "execution_count": null,
      "outputs": [
        {
          "output_type": "stream",
          "name": "stderr",
          "text": [
            "[nltk_data] Downloading package punkt to /root/nltk_data...\n",
            "[nltk_data]   Unzipping tokenizers/punkt.zip.\n"
          ]
        },
        {
          "output_type": "execute_result",
          "data": {
            "text/plain": [
              "True"
            ]
          },
          "metadata": {},
          "execution_count": 5
        }
      ]
    },
    {
      "cell_type": "code",
      "source": [
        "import nltk\n",
        "from nltk.tokenize import word_tokenize\n",
        "from clingo import Control, Function\n",
        "\n",
        "# Define the knowledge base rules\n",
        "knowledge_base = \"\"\"\n",
        "% Facts\n",
        "symptom(fever).\n",
        "symptom(cough).\n",
        "symptom(headache).\n",
        "disease(covid).\n",
        "disease(flu).\n",
        "disease(migraine).\n",
        "\n",
        "% Rules\n",
        "has_symptom(X, Y) :- symptom(Y), patient_has_symptom(X, Y).\n",
        "has_disease(X, Y) :- disease(Y), patient_has_disease(X, Y).\n",
        "\"\"\"\n",
        "\n",
        "# Define the natural language query\n",
        "query = \"What are the symptoms of COVID-19?\"\n",
        "\n",
        "# Preprocess the query\n",
        "tokens = word_tokenize(query.lower())\n",
        "\n",
        "# Extract relevant concepts from the query\n",
        "relevant_concepts = [token for token in tokens if token in ['symptoms', 'covid-19']]\n",
        "\n",
        "# Map the query concepts to ASP rules\n",
        "mapped_query = f\"has_symptom(X, Y) :- {' , '.join(relevant_concepts)}\"\n",
        "\n",
        "# Create a Control object and load the knowledge base\n",
        "control = Control()\n",
        "control.add(\"base\", [], knowledge_base)\n",
        "\n",
        "# Define a Python function to handle the query result\n",
        "def on_model(model):\n",
        "    symptoms = [sym for sym in model.symbols(atoms=True) if sym.name == \"has_symptom\"]\n",
        "    response = [sym.arguments[1].name for sym in symptoms]\n",
        "    print(\"Symptoms of COVID-19:\", response)\n",
        "\n",
        "# Register the Python function as the callback for query results\n",
        "control.ground([(\"base\", [])])\n",
        "control.solve(on_model=on_model)\n"
      ],
      "metadata": {
        "colab": {
          "base_uri": "https://localhost:8080/"
        },
        "id": "osPLFyKPZ8nk",
        "outputId": "cb6c6efc-2996-4c57-8099-85a4b0e4836e"
      },
      "execution_count": null,
      "outputs": [
        {
          "output_type": "stream",
          "name": "stdout",
          "text": [
            "Symptoms of COVID-19: []\n"
          ]
        },
        {
          "output_type": "execute_result",
          "data": {
            "text/plain": [
              "SolveResult(1)"
            ]
          },
          "metadata": {},
          "execution_count": 7
        }
      ]
    },
    {
      "cell_type": "markdown",
      "source": [
        "build an ASP-based question answering system that can assist customer support representatives in providing accurate and efficient solutions to customer queries and issues."
      ],
      "metadata": {
        "id": "kCypxAAHftY8"
      }
    },
    {
      "cell_type": "code",
      "source": [
        "from clingo import Control, Function\n",
        "\n",
        "# Define the knowledge base rules\n",
        "knowledge_base = \"\"\"\n",
        "% Facts\n",
        "issue(network).\n",
        "issue(billing).\n",
        "issue(service).\n",
        "\n",
        "% Rules\n",
        "solution(network, \"Check your network connection.\").\n",
        "solution(billing, \"Contact our billing department for assistance.\").\n",
        "solution(service, \"Restart your device and check for updates.\").\n",
        "\"\"\"\n",
        "\n",
        "# Create a Control object and load the knowledge base\n",
        "control = Control()\n",
        "control.add(\"base\", [], knowledge_base)\n",
        "\n",
        "# Define a Python function to handle the query result\n",
        "def on_model(model):\n",
        "    solutions = [sol.arguments[1].string for sol in model.symbols(atoms=True) if sol.name == \"solution\"]\n",
        "    if solutions:\n",
        "        print(\"Possible solutions:\")\n",
        "        for solution in solutions:\n",
        "            print(\"-\", solution)\n",
        "\n",
        "# Register the Python function as the callback for query results\n",
        "control.ground([(\"base\", [])])\n",
        "control.solve(on_model=on_model)\n",
        "\n",
        "# Prompt for user input\n",
        "query = input(\"Enter your question: \")\n",
        "\n",
        "# Create a Control object for the user query\n",
        "query_control = Control()\n",
        "query_control.ground([(\"query\", [])])\n",
        "query_control.solve(on_model=on_model)\n"
      ],
      "metadata": {
        "colab": {
          "base_uri": "https://localhost:8080/"
        },
        "id": "8KsfAIyEbeTo",
        "outputId": "c5fa3020-9caa-449e-a6d8-bf770e5891d7"
      },
      "execution_count": 4,
      "outputs": [
        {
          "name": "stdout",
          "output_type": "stream",
          "text": [
            "Possible solutions:\n",
            "- Check your network connection.\n",
            "- Contact our billing department for assistance.\n",
            "- Restart your device and check for updates.\n",
            "Enter your question: what is my network connection\n"
          ]
        },
        {
          "output_type": "execute_result",
          "data": {
            "text/plain": [
              "SolveResult(1)"
            ]
          },
          "metadata": {},
          "execution_count": 4
        }
      ]
    }
  ]
}